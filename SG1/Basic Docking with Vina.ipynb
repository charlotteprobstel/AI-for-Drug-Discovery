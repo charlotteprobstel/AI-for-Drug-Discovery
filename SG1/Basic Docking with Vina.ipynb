{
 "cells": [
  {
   "cell_type": "markdown",
   "id": "6c0c9ccc-491d-4086-973e-85f79f018483",
   "metadata": {},
   "source": [
    "# Basic Docking with Vina"
   ]
  }
 ],
 "metadata": {
  "kernelspec": {
   "display_name": "Python 3 (ipykernel)",
   "language": "python",
   "name": "python3"
  },
  "language_info": {
   "codemirror_mode": {
    "name": "ipython",
    "version": 3
   },
   "file_extension": ".py",
   "mimetype": "text/x-python",
   "name": "python",
   "nbconvert_exporter": "python",
   "pygments_lexer": "ipython3",
   "version": "3.10.11"
  }
 },
 "nbformat": 4,
 "nbformat_minor": 5
}
