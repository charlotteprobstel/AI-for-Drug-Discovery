{
 "cells": [
  {
   "cell_type": "markdown",
   "id": "fe7fb0d0-c7e3-47bb-9f80-44fecba9e4d3",
   "metadata": {},
   "source": [
    "# Cheminformatics & RDKit\n",
    "In this notebook, we will follow Notebook 03 - Cheminformatics.ipynb from the Koch Group. \n",
    "https://github.com/kochgroup/intro_pharma_ai/blob/main/Notebooks_EN/03%20-%20Cheminformatics.ipynb"
   ]
  },
  {
   "cell_type": "code",
   "execution_count": null,
   "id": "af68d195-076f-421c-a761-1b92ae7d0711",
   "metadata": {},
   "outputs": [],
   "source": []
  }
 ],
 "metadata": {
  "kernelspec": {
   "display_name": "Python 3 (ipykernel)",
   "language": "python",
   "name": "python3"
  },
  "language_info": {
   "codemirror_mode": {
    "name": "ipython",
    "version": 3
   },
   "file_extension": ".py",
   "mimetype": "text/x-python",
   "name": "python",
   "nbconvert_exporter": "python",
   "pygments_lexer": "ipython3",
   "version": "3.10.11"
  }
 },
 "nbformat": 4,
 "nbformat_minor": 5
}
